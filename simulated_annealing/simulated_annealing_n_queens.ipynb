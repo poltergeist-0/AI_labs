{
 "cells": [
  {
   "cell_type": "code",
   "execution_count": 1,
   "id": "1cae4c96-9b5e-4c8c-9b74-ef8f2b535bdb",
   "metadata": {},
   "outputs": [],
   "source": [
    "import random\n",
    "import math\n",
    "n = 20\n",
    "t = 30\n",
    "t_final = 0.0\n",
    "a = 0.98"
   ]
  },
  {
   "cell_type": "code",
   "execution_count": 2,
   "id": "6c18a547-3b55-4324-bc45-062353bfe2e3",
   "metadata": {},
   "outputs": [],
   "source": [
    "def modify_solution(current_sol):\n",
    "    mod_sol = current_sol[0:]\n",
    "    while mod_sol == current_sol:\n",
    "        a,b = random.randint(0,n-1),random.randint(0,n-1)\n",
    "        temp = mod_sol[a]\n",
    "        mod_sol[a],mod_sol[b] = mod_sol[b],temp\n",
    "    return mod_sol"
   ]
  },
  {
   "cell_type": "code",
   "execution_count": 3,
   "id": "48be575c-3721-4e3e-89b9-c128e25849a4",
   "metadata": {},
   "outputs": [],
   "source": [
    "def compute_energy(l):\n",
    "    p1 = []\n",
    "    p2 = []\n",
    "    for i in range(n*2-1):\n",
    "        p1.append(0)\n",
    "        p2.append(0)\n",
    "    for i in range(n):\n",
    "        p1[l[i]+i-1] = 1 # diagonal \\\n",
    "        p2[l[i]+n-2-i] = 1 # diagonal /\n",
    "    e = n - sum(p1) + n - sum(p2) # number of conflicts\n",
    "    return e"
   ]
  },
  {
   "cell_type": "code",
   "execution_count": 4,
   "id": "f1fb66be-14e1-4d7f-bd36-f85030913f1f",
   "metadata": {},
   "outputs": [],
   "source": [
    "def visual_representation(l):\n",
    "    s = \" \"\n",
    "    for i in range(n): s = s[0:] + \"_ \"\n",
    "    print(s)\n",
    "    k = [\"|\"]\n",
    "    for i in range(n): k.append(\"_|\")\n",
    "    for i in range(n):\n",
    "        ki = k[0:]\n",
    "        ki[l.index(n-i)+1]=\"Q|\"\n",
    "        print(\"\".join(ki))"
   ]
  },
  {
   "cell_type": "code",
   "execution_count": 5,
   "id": "de9c65c6-a00e-4619-8b59-76f007b7e77c",
   "metadata": {},
   "outputs": [],
   "source": [
    "def first_initialization():\n",
    "    current = []\n",
    "    for i in range(n): current.append(i+1)\n",
    "    #print(current)\n",
    "    for i in range(n): current = modify_solution(current)\n",
    "    return current\n"
   ]
  },
  {
   "cell_type": "code",
   "execution_count": 6,
   "id": "757abae3-0832-4e9b-b6ab-d77b033d5c1f",
   "metadata": {},
   "outputs": [],
   "source": [
    "def replace_solution(sol):\n",
    "    return sol[0:]"
   ]
  },
  {
   "cell_type": "code",
   "execution_count": 7,
   "id": "353c6220-8d77-4d8f-8167-1784d2f419c8",
   "metadata": {},
   "outputs": [
    {
     "name": "stdout",
     "output_type": "stream",
     "text": [
      "t = 0.3896974182588899\n",
      " _ _ _ _ _ _ _ _ _ _ _ _ _ _ _ _ _ _ _ _ \n",
      "|_|_|_|_|_|_|_|_|_|_|_|_|_|_|Q|_|_|_|_|_|\n",
      "|_|_|_|_|_|_|_|_|Q|_|_|_|_|_|_|_|_|_|_|_|\n",
      "|_|_|_|_|_|_|Q|_|_|_|_|_|_|_|_|_|_|_|_|_|\n",
      "|_|_|_|_|Q|_|_|_|_|_|_|_|_|_|_|_|_|_|_|_|\n",
      "|_|_|_|_|_|_|_|_|_|_|_|_|_|_|_|_|_|Q|_|_|\n",
      "|_|_|_|_|_|_|_|Q|_|_|_|_|_|_|_|_|_|_|_|_|\n",
      "|_|_|_|_|_|Q|_|_|_|_|_|_|_|_|_|_|_|_|_|_|\n",
      "|_|_|_|_|_|_|_|_|_|_|_|_|_|Q|_|_|_|_|_|_|\n",
      "|_|_|_|_|_|_|_|_|_|_|_|_|_|_|_|_|_|_|Q|_|\n",
      "|_|Q|_|_|_|_|_|_|_|_|_|_|_|_|_|_|_|_|_|_|\n",
      "|_|_|_|_|_|_|_|_|_|_|_|_|_|_|_|Q|_|_|_|_|\n",
      "|_|_|_|_|_|_|_|_|_|_|_|Q|_|_|_|_|_|_|_|_|\n",
      "|_|_|_|Q|_|_|_|_|_|_|_|_|_|_|_|_|_|_|_|_|\n",
      "|_|_|_|_|_|_|_|_|_|_|Q|_|_|_|_|_|_|_|_|_|\n",
      "|_|_|Q|_|_|_|_|_|_|_|_|_|_|_|_|_|_|_|_|_|\n",
      "|_|_|_|_|_|_|_|_|_|Q|_|_|_|_|_|_|_|_|_|_|\n",
      "|_|_|_|_|_|_|_|_|_|_|_|_|_|_|_|_|_|_|_|Q|\n",
      "|_|_|_|_|_|_|_|_|_|_|_|_|Q|_|_|_|_|_|_|_|\n",
      "|_|_|_|_|_|_|_|_|_|_|_|_|_|_|_|_|Q|_|_|_|\n",
      "|Q|_|_|_|_|_|_|_|_|_|_|_|_|_|_|_|_|_|_|_|\n"
     ]
    }
   ],
   "source": [
    "\n",
    "current = first_initialization()\n",
    "current_e = compute_energy(current)\n",
    "#print(current,\"\\n\")\n",
    "\n",
    "while t > t_final and current_e != 0:\n",
    "    counter100 = 100\n",
    "    while counter100 != 0 and current_e != 0:\n",
    "        nextS = modify_solution(current)\n",
    "        nextS_e = compute_energy(nextS)\n",
    "        \n",
    "        if nextS_e <= current_e:\n",
    "            current = replace_solution(nextS)\n",
    "            current_e = compute_energy(current)\n",
    "        else:\n",
    "            p = math.exp((current_e - nextS_e)/t)\n",
    "            # з ймовірністю р змінити current на nextS\n",
    "            p0 = random.uniform(0,1.0)\n",
    "            if p0 < p:\n",
    "                current = replace_solution(nextS)\n",
    "                current_e = compute_energy(current)\n",
    "                \n",
    "        counter100 -= 1\n",
    "    t *= a\n",
    "print(\"t =\",t)\n",
    "#print(current)\n",
    "visual_representation(current)"
   ]
  },
  {
   "cell_type": "code",
   "execution_count": null,
   "id": "79f68069-6e79-44e4-9602-56989a909680",
   "metadata": {},
   "outputs": [],
   "source": []
  },
  {
   "cell_type": "code",
   "execution_count": null,
   "id": "00ee229d-019e-44cc-9efc-833b3aead6f7",
   "metadata": {},
   "outputs": [],
   "source": []
  },
  {
   "cell_type": "code",
   "execution_count": null,
   "id": "e3dccf80-2430-49ba-8139-bb3af6eaa910",
   "metadata": {},
   "outputs": [],
   "source": []
  },
  {
   "cell_type": "code",
   "execution_count": null,
   "id": "d7d82c23-b923-4ecf-b49c-f2164e3c055e",
   "metadata": {},
   "outputs": [],
   "source": []
  }
 ],
 "metadata": {
  "kernelspec": {
   "display_name": "anaconda-ai-2024.04-py310",
   "language": "python",
   "name": "conda-env-anaconda-ai-2024.04-py310-py"
  },
  "language_info": {
   "codemirror_mode": {
    "name": "ipython",
    "version": 3
   },
   "file_extension": ".py",
   "mimetype": "text/x-python",
   "name": "python",
   "nbconvert_exporter": "python",
   "pygments_lexer": "ipython3",
   "version": "3.10.13"
  }
 },
 "nbformat": 4,
 "nbformat_minor": 5
}
